{
 "cells": [
  {
   "cell_type": "markdown",
   "id": "neither-england",
   "metadata": {},
   "source": [
    "# Load Model for Ercot Coast\n",
    "\n",
    "We will be using using NOAA Weather Observations from Station `722430-12960` to create a *load forecasting model* for the ERCOT `COAST` area.\n",
    "\n",
    "![Station](https://www.ncdc.noaa.gov/sites/default/files/styles/341px_width/public/crn-instruments.jpg)\n",
    "\n",
    "Source Data:\n",
    "\n",
    "- [NOAA Observations](https://www1.ncdc.noaa.gov/pub/data/noaa/isd-lite/)\n",
    "- [Ercot Hourly Load Data Archives](http://www.ercot.com/gridinfo/load/load_hist/)"
   ]
  },
  {
   "cell_type": "markdown",
   "id": "colored-connecticut",
   "metadata": {},
   "source": [
    "## Notebooks\n",
    "\n",
    "You will need to run the notebooks in this order in order to ingest the data, transform it, etc.\n",
    "\n",
    "- [Ingest Noaa Observations](ingest_noaa_observations.ipynb)\n",
    "- [Ingest Ercot Loads](ingest_ercot_loads.ipynb)\n",
    "- [Transform NOAA Observations](transform_noaa_observations.ipynb)\n",
    "- [Transform Ercot Loads](transform_ercot_loads.ipynb)\n",
    "- [Visualize the Training DataSet](viz_traing_dataset.ipynb)\n",
    "- [Train of Model](train_model.ipynb)"
   ]
  }
 ],
 "metadata": {
  "kernelspec": {
   "display_name": "Python 3",
   "language": "python",
   "name": "python3"
  },
  "language_info": {
   "codemirror_mode": {
    "name": "ipython",
    "version": 3
   },
   "file_extension": ".py",
   "mimetype": "text/x-python",
   "name": "python",
   "nbconvert_exporter": "python",
   "pygments_lexer": "ipython3",
   "version": "3.7.6"
  }
 },
 "nbformat": 4,
 "nbformat_minor": 5
}
