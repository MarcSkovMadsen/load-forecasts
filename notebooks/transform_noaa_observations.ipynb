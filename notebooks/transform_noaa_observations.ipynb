{
 "cells": [
  {
   "cell_type": "code",
   "execution_count": null,
   "metadata": {},
   "outputs": [],
   "source": [
    "import glob\n",
    "import os\n",
    "\n",
    "import pandas as pd\n",
    "from dask import compute\n",
    "from dask.delayed import delayed\n",
    "import dask.dataframe as dd\n",
    "\n",
    "from config import NOAA_RAW_ROOT, NOAA_GOLD_ROOT"
   ]
  },
  {
   "cell_type": "markdown",
   "metadata": {},
   "source": [
    "# Transform NOAA Observations"
   ]
  },
  {
   "cell_type": "code",
   "execution_count": null,
   "metadata": {},
   "outputs": [],
   "source": [
    "filenames = glob.glob(f\"{NOAA_RAW_ROOT}/*/*.gz\", recursive=True)\n",
    "filenames[0:3]"
   ]
  },
  {
   "cell_type": "code",
   "execution_count": null,
   "metadata": {},
   "outputs": [],
   "source": [
    "def to_station(filename):   \n",
    "    split = filename.split(\"\\\\\")[-1].split(\"-\")\n",
    "    return split[0]+\"-\"+split[1]\n",
    "\n",
    "result = to_station('../data/raw/noaa\\\\1981\\\\722430-12960-1981.gz')\n",
    "result"
   ]
  },
  {
   "cell_type": "code",
   "execution_count": null,
   "metadata": {},
   "outputs": [],
   "source": [
    "def read_csv(filename):\n",
    "    station = to_station(filename)\n",
    "    df = pd.read_csv(filename, header=None)\n",
    "    df[\"station\"]=station\n",
    "    return df\n",
    "\n",
    "dfs = [delayed(read_csv)(fn) for fn in filenames]\n",
    "df = dd.from_delayed(dfs)  # df is a dask dataframe\n",
    "df = df.rename(columns={0: \"raw\"})\n",
    "df.head(3)"
   ]
  },
  {
   "cell_type": "markdown",
   "metadata": {},
   "source": [
    " Source Description: https://www1.ncdc.noaa.gov/pub/data/noaa/isd-lite/isd-lite-format.txt"
   ]
  },
  {
   "cell_type": "code",
   "execution_count": null,
   "metadata": {},
   "outputs": [],
   "source": [
    "df[\"year\"] = df[\"raw\"].str[0:4].astype(int)\n",
    "df[\"month\"] = df[\"raw\"].str[5:7].astype(int)\n",
    "df[\"day\"] = df[\"raw\"].str[8:10].astype(int)\n",
    "df[\"hour\"] = df[\"raw\"].str[11:13].astype(int)\n",
    "df[\"datetime\"] = dd.to_datetime(df[[\"year\", \"month\", \"day\", \"hour\"]])\n",
    "df[\"day_of_year\"] = df[\"datetime\"].dt.dayofyear\n",
    "df[\"quarter\"] = df[\"datetime\"].dt.quarter\n",
    "\n",
    "df[\"temperature\"] = df[\"raw\"].str[13:19].astype(float).replace(-9999, pd.NA) / 10\n",
    "df[\"dewpoint\"] = (\n",
    "    df[\"raw\"].str[19:25].astype(float).replace(-9999, pd.NA) / 10\n",
    ")  # Different than source docs\n",
    "df[\"pressure\"] = df[\"raw\"].str[26:32].astype(float).replace(-9999, pd.NA) / 10\n",
    "df[\"wind_direction\"] = df[\"raw\"].str[34:37].astype(float).replace(-9999, pd.NA)\n",
    "df[\"wind_speed\"] = df[\"raw\"].str[40:43].astype(float).replace(-9999, pd.NA) / 10\n",
    "df[\"sky_condition\"] = df[\"raw\"].str[44:50].astype(float).replace(-9999, pd.NA)\n",
    "df[\"precipitation_one_hour\"] = df[\"raw\"].str[53:55].astype(float).replace(-9999, pd.NA) / 10\n",
    "df[\"precipitation_six_hour\"] = df[\"raw\"].str[56:61].astype(float).replace(-9999, pd.NA) / 10\n",
    "df.head()"
   ]
  },
  {
   "cell_type": "code",
   "execution_count": null,
   "metadata": {},
   "outputs": [],
   "source": [
    "gold_path = f\"{NOAA_GOLD_ROOT}.parquet\"\n",
    "df.to_parquet(gold_path, partition_on=[\"station\", \"year\"])"
   ]
  },
  {
   "cell_type": "markdown",
   "metadata": {},
   "source": [
    "Previous: [Ingest Ercot Loads](ingest_ercot_loads.ipynb)\n",
    "Next: [Transform Ercot Loads](transform_ercot_loads.ipynb)"
   ]
  }
 ],
 "metadata": {
  "kernelspec": {
   "display_name": "Python 3",
   "language": "python",
   "name": "python3"
  },
  "language_info": {
   "codemirror_mode": {
    "name": "ipython",
    "version": 3
   },
   "file_extension": ".py",
   "mimetype": "text/x-python",
   "name": "python",
   "nbconvert_exporter": "python",
   "pygments_lexer": "ipython3",
   "version": "3.7.6"
  }
 },
 "nbformat": 4,
 "nbformat_minor": 4
}
