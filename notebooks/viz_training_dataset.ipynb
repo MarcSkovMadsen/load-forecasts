{
 "cells": [
  {
   "cell_type": "code",
   "execution_count": null,
   "id": "excessive-visiting",
   "metadata": {},
   "outputs": [],
   "source": [
    "import dask.dataframe as dd\n",
    "\n",
    "import panel as pn\n",
    "pn.extension(\"perspective\")\n",
    "pn.config.sizing_mode=\"stretch_width\"\n",
    "\n",
    "import holoviews as hv\n",
    "hv.extension(\"bokeh\")\n",
    "import hvplot.dask \n",
    "import hvplot.pandas\n",
    "import numpy as np\n",
    "\n",
    "from config import TRAINING_GOLD_PATH"
   ]
  },
  {
   "cell_type": "markdown",
   "id": "limited-stress",
   "metadata": {},
   "source": [
    "# Noaa Observations"
   ]
  },
  {
   "cell_type": "code",
   "execution_count": null,
   "id": "dedicated-classification",
   "metadata": {},
   "outputs": [],
   "source": [
    "df = dd.read_parquet(TRAINING_GOLD_PATH)\n",
    "df.head()"
   ]
  },
  {
   "cell_type": "code",
   "execution_count": null,
   "id": "operating-green",
   "metadata": {},
   "outputs": [],
   "source": [
    "len(df)"
   ]
  },
  {
   "cell_type": "code",
   "execution_count": null,
   "id": "gorgeous-bundle",
   "metadata": {},
   "outputs": [],
   "source": [
    "def plot_bars(kdim=\"year\", vdim=\"temperature\", plot_type=hv.Bars):\n",
    "    plot = plot_type(df, kdims=[kdim], vdims=vdim).aggregate(function=np.mean)\n",
    "    plot.opts(height=500, responsive=True)\n",
    "    \n",
    "    load = hv.Curve(df, kdims=[kdim], vdims=\"load\").aggregate(function=np.mean).opts(height=500, responsive=True)\n",
    "    return (plot + load).cols(1)\n",
    "plot_bars(plot_type=hv.Curve)"
   ]
  },
  {
   "cell_type": "code",
   "execution_count": null,
   "id": "changed-opinion",
   "metadata": {},
   "outputs": [],
   "source": [
    "kdims = [\"year\", \"quarter\", \"day_of_year\", \"month\", \"day\", \"hour\", \"day_of_year\",]\n",
    "vdims = [\"temperature\", \"dewpoint\", \"pressure\", \"wind_direction\", \"wind_speed\", \"sky_condition\", \"precipitation_one_hour\", \"precipitation_six_hour\"]"
   ]
  },
  {
   "cell_type": "code",
   "execution_count": null,
   "id": "impressed-graham",
   "metadata": {},
   "outputs": [],
   "source": [
    "plots_bars = {}\n",
    "for k in kdims[0:3]:\n",
    "    for v in vdims[0:2]:\n",
    "        plots_bars[(k,v)]=plot_bars(k,v, hv.Curve)"
   ]
  },
  {
   "cell_type": "code",
   "execution_count": null,
   "id": "editorial-spotlight",
   "metadata": {},
   "outputs": [],
   "source": [
    "hv.NdLayout(plots_bars, kdims=[\"key\", \"value\"]).cols(1)"
   ]
  },
  {
   "cell_type": "code",
   "execution_count": null,
   "id": "changing-lithuania",
   "metadata": {},
   "outputs": [],
   "source": [
    "selection_vdim = pn.widgets.Select(value=vdims[0], options=vdims)\n",
    "selection_vdim"
   ]
  },
  {
   "cell_type": "code",
   "execution_count": null,
   "id": "tutorial-transcript",
   "metadata": {},
   "outputs": [],
   "source": [
    "container = pn.Column()\n",
    "\n",
    "@pn.depends(kdim=selection_kdim, vdim=selection_vdim)\n",
    "def plot_bars(kdim=\"year\", vdim=\"temperature\"):\n",
    "    container.loading=True\n",
    "    plot = hv.Bars(df_noaa, kdims=[kdim], vdims=vdim).aggregate(function=np.mean)\n",
    "    plot.opts(height=500, responsive=True)\n",
    "    container.loading=False\n",
    "    return plot\n",
    "container[:]=[selection_kdim, selection_vdim, plot_bars]\n",
    "container"
   ]
  },
  {
   "cell_type": "markdown",
   "id": "marine-guest",
   "metadata": {},
   "source": [
    "Previous: [Transform Ercot Loads](transform_ercot_loads.ipynb)\n",
    "Next: [Train Model](train_model.ipynb)"
   ]
  }
 ],
 "metadata": {
  "kernelspec": {
   "display_name": "Python 3",
   "language": "python",
   "name": "python3"
  },
  "language_info": {
   "codemirror_mode": {
    "name": "ipython",
    "version": 3
   },
   "file_extension": ".py",
   "mimetype": "text/x-python",
   "name": "python",
   "nbconvert_exporter": "python",
   "pygments_lexer": "ipython3",
   "version": "3.7.6"
  }
 },
 "nbformat": 4,
 "nbformat_minor": 5
}
