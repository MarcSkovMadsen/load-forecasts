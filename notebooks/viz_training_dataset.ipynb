{
 "cells": [
  {
   "cell_type": "code",
   "execution_count": null,
   "id": "favorite-trance",
   "metadata": {},
   "outputs": [],
   "source": [
    "import dask.dataframe as dd\n",
    "\n",
    "import panel as pn\n",
    "pn.extension(\"perspective\")\n",
    "pn.config.sizing_mode=\"stretch_width\"\n",
    "\n",
    "import holoviews as hv\n",
    "hv.extension(\"bokeh\")\n",
    "import hvplot.dask \n",
    "import hvplot.pandas\n",
    "import numpy as np\n",
    "\n",
    "from config import TRAINING_GOLD_PATH"
   ]
  },
  {
   "cell_type": "markdown",
   "id": "distinguished-correspondence",
   "metadata": {},
   "source": [
    "# Visualization of the Training Set"
   ]
  },
  {
   "cell_type": "code",
   "execution_count": null,
   "id": "quality-strip",
   "metadata": {},
   "outputs": [],
   "source": [
    "df = dd.read_parquet(TRAINING_GOLD_PATH)\n",
    "df.head()"
   ]
  },
  {
   "cell_type": "code",
   "execution_count": null,
   "id": "comprehensive-bedroom",
   "metadata": {},
   "outputs": [],
   "source": [
    "len(df)"
   ]
  },
  {
   "cell_type": "code",
   "execution_count": null,
   "id": "arctic-uncertainty",
   "metadata": {},
   "outputs": [],
   "source": [
    "def plot_bars(kdim=\"day_of_year\", vdim=\"temperature\", plot_type=hv.Bars):\n",
    "    plot = plot_type(df, kdims=[kdim], vdims=vdim).aggregate(function=np.mean)\n",
    "    plot.opts(height=500, responsive=True)\n",
    "    \n",
    "    return plot\n",
    "plot_bars(plot_type=hv.Curve)"
   ]
  },
  {
   "cell_type": "code",
   "execution_count": null,
   "id": "indirect-mustang",
   "metadata": {},
   "outputs": [],
   "source": [
    "kdims = [\"year\", \"quarter\", \"day_of_year\", \"month\", \"day\", \"hour\", \"day_of_year\",]\n",
    "vdims = [\"temperature\", \"dewpoint\", \"pressure\", \"wind_direction\", \"wind_speed\", \"sky_condition\", \"precipitation_one_hour\", \"precipitation_six_hour\"]"
   ]
  },
  {
   "cell_type": "code",
   "execution_count": null,
   "id": "invalid-scientist",
   "metadata": {},
   "outputs": [],
   "source": [
    "plots_bars = {}\n",
    "for k in kdims[0:3]:\n",
    "    for v in vdims[0:2]:\n",
    "        plots_bars[(k,v)]=plot_bars(k,v, hv.Curve)"
   ]
  },
  {
   "cell_type": "code",
   "execution_count": null,
   "id": "addressed-remove",
   "metadata": {},
   "outputs": [],
   "source": [
    "hv.NdLayout(plots_bars, kdims=[\"key\", \"value\"]).cols(1)"
   ]
  },
  {
   "cell_type": "markdown",
   "id": "exact-cream",
   "metadata": {},
   "source": [
    "Previous: [Transform Ercot Loads](transform_ercot_loads.ipynb)\n",
    "Next: [Train Model](train_model.ipynb)"
   ]
  }
 ],
 "metadata": {
  "kernelspec": {
   "display_name": "Python 3",
   "language": "python",
   "name": "python3"
  },
  "language_info": {
   "codemirror_mode": {
    "name": "ipython",
    "version": 3
   },
   "file_extension": ".py",
   "mimetype": "text/x-python",
   "name": "python",
   "nbconvert_exporter": "python",
   "pygments_lexer": "ipython3",
   "version": "3.7.6"
  }
 },
 "nbformat": 4,
 "nbformat_minor": 5
}
