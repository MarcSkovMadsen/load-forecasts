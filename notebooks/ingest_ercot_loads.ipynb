{
 "cells": [
  {
   "cell_type": "code",
   "execution_count": null,
   "metadata": {},
   "outputs": [],
   "source": [
    "import os\n",
    "import requests\n",
    "\n",
    "from config import ERCOT_RAW_ROOT, ERCOT_SOURCE_ROOT"
   ]
  },
  {
   "cell_type": "markdown",
   "metadata": {},
   "source": [
    "## Ingest ERCOT Loads\n",
    "\n",
    "Source: [Ercot Hourly Load Data Archives](http://www.ercot.com/gridinfo/load/load_hist/)"
   ]
  },
  {
   "cell_type": "code",
   "execution_count": null,
   "metadata": {},
   "outputs": [],
   "source": [
    "def to_target_filename(source_url):\n",
    "    parts = source_url.split(\"/\")\n",
    "    return ERCOT_RAW_ROOT + \"/\" + parts[-1]\n",
    "\n",
    "\n",
    "source_url = \"http://www.ercot.com/content/wcm/key_documents_lists/89022/Native_Load_2021.zip\"\n",
    "target_filename = to_target_filename(source_url)\n",
    "target_filename"
   ]
  },
  {
   "cell_type": "code",
   "execution_count": null,
   "metadata": {},
   "outputs": [],
   "source": [
    "def ingest(source_url, target_file_name):\n",
    "    if os.path.exists(target_filename):\n",
    "        return \"skipped\"\n",
    "\n",
    "    if not os.path.exists(os.path.dirname(target_filename)):\n",
    "        try:\n",
    "            os.makedirs(os.path.dirname(target_filename))\n",
    "        except OSError as exc:  # Guard against race condition\n",
    "            pass\n",
    "            # if exc.errno != errno.EEXIST:\n",
    "            # raise\n",
    "    r = requests.get(source_url, allow_redirects=True)\n",
    "    if r.status_code == 200:\n",
    "        open(target_filename, \"wb\").write(r.content)\n",
    "    return str(r.status_code)\n",
    "\n",
    "\n",
    "ingest(source_url, target_filename)"
   ]
  },
  {
   "cell_type": "markdown",
   "metadata": {},
   "source": [
    "Source: [ERCOT LOADS](http://www.ercot.com/gridinfo/load/load_hist/)"
   ]
  },
  {
   "cell_type": "code",
   "execution_count": null,
   "metadata": {},
   "outputs": [],
   "source": [
    "source_urls = [\n",
    "    \"http://www.ercot.com/content/wcm/key_documents_lists/89022/Native_Load_2021.zip\",\n",
    "    \"http://www.ercot.com/content/wcm/key_documents_lists/89022/Native_Load_2020.zip\",\n",
    "    \"http://www.ercot.com/content/wcm/key_documents_lists/89022/Native_Load_2019.zip\",\n",
    "    \"http://www.ercot.com/content/wcm/key_documents_lists/89022/native_load_2018.zip\",\n",
    "    \"http://www.ercot.com/content/wcm/key_documents_lists/89022/native_load_2017.zip\",\n",
    "    \"http://www.ercot.com/content/wcm/key_documents_lists/89022/native_Load_2016.zip\"\n",
    "]"
   ]
  },
  {
   "cell_type": "code",
   "execution_count": null,
   "metadata": {},
   "outputs": [],
   "source": [
    "results = []\n",
    "for source_url in source_urls:\n",
    "    target_filename = to_target_filename(source_url)\n",
    "    result = ingest(source_url, target_filename)\n",
    "    results.append((target_filename, result))\n",
    "results"
   ]
  },
  {
   "cell_type": "markdown",
   "metadata": {},
   "source": [
    "Previous: [Ingest Noaa Observations](ingest_noaa_observations.ipynb)\n",
    "Next: [Transform Noaa Observations](transform_noaa_observations.ipynb)"
   ]
  }
 ],
 "metadata": {
  "kernelspec": {
   "display_name": "Python 3",
   "language": "python",
   "name": "python3"
  },
  "language_info": {
   "codemirror_mode": {
    "name": "ipython",
    "version": 3
   },
   "file_extension": ".py",
   "mimetype": "text/x-python",
   "name": "python",
   "nbconvert_exporter": "python",
   "pygments_lexer": "ipython3",
   "version": "3.7.6"
  }
 },
 "nbformat": 4,
 "nbformat_minor": 4
}
