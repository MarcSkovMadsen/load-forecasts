{
 "cells": [
  {
   "cell_type": "code",
   "execution_count": null,
   "id": "smaller-cosmetic",
   "metadata": {},
   "outputs": [],
   "source": [
    "import glob\n",
    "import os\n",
    "\n",
    "import pandas as pd\n",
    "from pandas.api.types import is_string_dtype\n",
    "from dask import compute\n",
    "from dask.delayed import delayed\n",
    "import dask.dataframe as dd\n",
    "import zipfile\n",
    "\n",
    "from config import NOAA_GOLD_PATH, ERCOT_GOLD_PATH, STATION, AREA, TRAINING_GOLD_PATH"
   ]
  },
  {
   "cell_type": "markdown",
   "id": "serious-david",
   "metadata": {},
   "source": [
    "# NOAA Observations"
   ]
  },
  {
   "cell_type": "code",
   "execution_count": null,
   "id": "decimal-scott",
   "metadata": {},
   "outputs": [],
   "source": [
    "df_noaa = dd.read_parquet(NOAA_GOLD_PATH)\n",
    "df_noaa.head()"
   ]
  },
  {
   "cell_type": "code",
   "execution_count": null,
   "id": "green-message",
   "metadata": {},
   "outputs": [],
   "source": [
    "df_noaa_filter = df_noaa[\"station\"]==STATION\n",
    "df_noaa_prep = (\n",
    "    df_noaa\n",
    "    .where(df_noaa_filter)\n",
    "    .drop(columns=[\"raw\"])\n",
    "    .set_index(\"datetime\")\n",
    ")\n",
    "df_noaa_prep.head()"
   ]
  },
  {
   "cell_type": "markdown",
   "id": "necessary-pattern",
   "metadata": {},
   "source": [
    "# ERCOT Loads"
   ]
  },
  {
   "cell_type": "code",
   "execution_count": null,
   "id": "diagnostic-honolulu",
   "metadata": {},
   "outputs": [],
   "source": [
    "df_ercot = dd.read_parquet(ERCOT_GOLD_PATH)\n",
    "df_ercot.head()"
   ]
  },
  {
   "cell_type": "code",
   "execution_count": null,
   "id": "competent-wagner",
   "metadata": {},
   "outputs": [],
   "source": [
    "df_ercot_filter = ~(df_ercot[\"Hour Beginning\"].isna()) # (df_ercot[\"area\"]==AREA) & \n",
    "\n",
    "df_ercot_prep = (\n",
    "    df_ercot\n",
    "    .where(~df_ercot[\"Hour Beginning\"].isna())\n",
    "    .where(df_ercot[\"area\"]==\"COAST\")\n",
    "    .dropna()\n",
    "    .rename(columns={\"Hour Beginning\": \"datetime\"})\n",
    "    .drop(columns=[\"Hour Ending\", \"Hour Ending Raw\", \"year\"])\n",
    "    .set_index(\"datetime\")\n",
    ")\n",
    "df_ercot_prep.compute()"
   ]
  },
  {
   "cell_type": "markdown",
   "id": "dominican-velvet",
   "metadata": {},
   "source": [
    "# Training Dataset"
   ]
  },
  {
   "cell_type": "code",
   "execution_count": null,
   "id": "heavy-brook",
   "metadata": {},
   "outputs": [],
   "source": [
    "df_training = df_noaa_prep.join(df_ercot_prep, on=\"datetime\", how=\"inner\").reset_index()\n",
    "df_training.columns"
   ]
  },
  {
   "cell_type": "code",
   "execution_count": null,
   "id": "broad-burton",
   "metadata": {},
   "outputs": [],
   "source": [
    "df_training.to_parquet(TRAINING_GOLD_PATH, partition_on=[\"station\", \"year\"])"
   ]
  },
  {
   "cell_type": "code",
   "execution_count": null,
   "id": "infrared-annex",
   "metadata": {},
   "outputs": [],
   "source": [
    "dd.read_parquet(TRAINING_GOLD_PATH).head()"
   ]
  },
  {
   "cell_type": "markdown",
   "id": "cheap-beach",
   "metadata": {},
   "source": [
    "Previous: [Transform Ercot Load Data](transform_ercot_loads.ipynb)\n",
    "Next: [Visualize Training DataSet](viz_training_dataset.ipynb)"
   ]
  }
 ],
 "metadata": {
  "kernelspec": {
   "display_name": "Python 3",
   "language": "python",
   "name": "python3"
  },
  "language_info": {
   "codemirror_mode": {
    "name": "ipython",
    "version": 3
   },
   "file_extension": ".py",
   "mimetype": "text/x-python",
   "name": "python",
   "nbconvert_exporter": "python",
   "pygments_lexer": "ipython3",
   "version": "3.7.6"
  }
 },
 "nbformat": 4,
 "nbformat_minor": 5
}
