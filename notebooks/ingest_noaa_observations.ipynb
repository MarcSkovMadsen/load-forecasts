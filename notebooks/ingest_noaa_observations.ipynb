{
 "cells": [
  {
   "cell_type": "code",
   "execution_count": null,
   "metadata": {},
   "outputs": [],
   "source": [
    "import os\n",
    "\n",
    "import panel as pn\n",
    "import requests\n",
    "\n",
    "from config import NOAA_RAW_ROOT, NOAA_SOURCE_ROOT, STATION\n",
    "\n",
    "pn.extension(\"perspective\")\n",
    "pn.config.sizing_mode = \"stretch_width\"\n",
    "PERSPECTIVE_THEME = \"material-dark\""
   ]
  },
  {
   "cell_type": "markdown",
   "metadata": {},
   "source": [
    " ## Ingest NOAA Weather Observations\n",
    "\n",
    " Source: https://www1.ncdc.noaa.gov/pub/data/noaa/isd-lite/\n",
    "\n",
    " Source Description: https://www1.ncdc.noaa.gov/pub/data/noaa/isd-lite/isd-lite-format.txt"
   ]
  },
  {
   "cell_type": "code",
   "execution_count": null,
   "metadata": {},
   "outputs": [],
   "source": [
    "STATIONS = (STATION,)\n",
    "YEARS = range(2021, 1979, -1)"
   ]
  },
  {
   "cell_type": "code",
   "execution_count": null,
   "metadata": {},
   "outputs": [],
   "source": [
    "def get_source_url(year, station):\n",
    "    file = f\"{station}-{year}.gz\"\n",
    "    url = f\"{NOAA_SOURCE_ROOT}{year}/{file}\"\n",
    "    return url\n",
    "\n",
    "\n",
    "source_url = get_source_url(2021, \"722430-12960\")\n",
    "source_url"
   ]
  },
  {
   "cell_type": "code",
   "execution_count": null,
   "metadata": {},
   "outputs": [],
   "source": [
    "def to_target_filename(source_url):\n",
    "    parts = source_url.split(\"/\")\n",
    "    return NOAA_RAW_ROOT + \"/\" + parts[-2] + \"/\" + parts[-1]\n",
    "\n",
    "\n",
    "target_filename = to_target_filename(source_url)\n",
    "target_filename"
   ]
  },
  {
   "cell_type": "code",
   "execution_count": null,
   "metadata": {},
   "outputs": [],
   "source": [
    "def ingest(source_url, target_file_name):\n",
    "    if os.path.exists(target_filename):\n",
    "        return \"skipped\"\n",
    "\n",
    "    if not os.path.exists(os.path.dirname(target_filename)):\n",
    "        try:\n",
    "            os.makedirs(os.path.dirname(target_filename))\n",
    "        except OSError as exc:  # Guard against race condition\n",
    "            pass\n",
    "            # if exc.errno != errno.EEXIST:\n",
    "            # raise\n",
    "    r = requests.get(source_url, allow_redirects=True)\n",
    "    if r.status_code == 200:\n",
    "        open(target_filename, \"wb\").write(r.content)\n",
    "    return str(r.status_code)\n",
    "\n",
    "\n",
    "ingest(source_url, target_filename)"
   ]
  },
  {
   "cell_type": "code",
   "execution_count": null,
   "metadata": {},
   "outputs": [],
   "source": [
    "source_urls = []\n",
    "\n",
    "\n",
    "for year in YEARS:\n",
    "    for station in STATIONS:\n",
    "        source_urls.append(get_source_url(year, station))\n",
    "\n",
    "source_urls[0:3]"
   ]
  },
  {
   "cell_type": "code",
   "execution_count": null,
   "metadata": {},
   "outputs": [],
   "source": [
    "results = []\n",
    "for source_url in source_urls:\n",
    "    target_filename = to_target_filename(source_url)\n",
    "    result = to_target_filename(source_url)\n",
    "    result = ingest(source_url, target_filename)\n",
    "    results.append((target_filename, result))\n",
    "results[0:3]"
   ]
  },
  {
   "cell_type": "markdown",
   "metadata": {},
   "source": [
    "Previous: [Overview](overview.ipynb)\n",
    "Next: [Ingest Ercot Loads](ingest_ercot_loads.ipynb)"
   ]
  },
  {
   "cell_type": "code",
   "execution_count": null,
   "metadata": {},
   "outputs": [],
   "source": []
  }
 ],
 "metadata": {
  "kernelspec": {
   "display_name": "Python 3",
   "language": "python",
   "name": "python3"
  },
  "language_info": {
   "codemirror_mode": {
    "name": "ipython",
    "version": 3
   },
   "file_extension": ".py",
   "mimetype": "text/x-python",
   "name": "python",
   "nbconvert_exporter": "python",
   "pygments_lexer": "ipython3",
   "version": "3.7.6"
  }
 },
 "nbformat": 4,
 "nbformat_minor": 4
}
