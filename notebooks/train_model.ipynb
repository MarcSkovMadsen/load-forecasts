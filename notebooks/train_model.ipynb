{
 "cells": [
  {
   "cell_type": "code",
   "execution_count": null,
   "id": "native-direction",
   "metadata": {},
   "outputs": [],
   "source": [
    "import dask.dataframe as dd\n",
    "import pandas as pd\n",
    "\n",
    "import panel as pn\n",
    "pn.extension(\"perspective\")\n",
    "pn.config.sizing_mode=\"stretch_width\"\n",
    "\n",
    "import holoviews as hv\n",
    "hv.extension(\"bokeh\")\n",
    "import hvplot.dask \n",
    "import hvplot.pandas\n",
    "import numpy as np\n",
    "\n",
    "from config import TRAINING_GOLD_PATH, MODEL_PATH\n",
    "import pickle"
   ]
  },
  {
   "cell_type": "markdown",
   "id": "positive-surrey",
   "metadata": {},
   "source": [
    "## Train Simple Load Model\n",
    "\n",
    "Feel free to improve :-)"
   ]
  },
  {
   "cell_type": "code",
   "execution_count": null,
   "id": "amino-commander",
   "metadata": {},
   "outputs": [],
   "source": [
    "data = dd.read_parquet(TRAINING_GOLD_PATH).compute().set_index(\"datetime\")\n",
    "data.head()"
   ]
  },
  {
   "cell_type": "code",
   "execution_count": null,
   "id": "infrared-archives",
   "metadata": {},
   "outputs": [],
   "source": [
    "data.plot(y=\"load\", figsize=(25,10))"
   ]
  },
  {
   "cell_type": "code",
   "execution_count": null,
   "id": "chinese-position",
   "metadata": {},
   "outputs": [],
   "source": [
    "kdims=[\"temperature\", \"dewpoint\", ] + [\"load\"]\n",
    "data = data[kdims].dropna()\n",
    "train = data[:int(0.8*(len(data)))]\n",
    "valid = data[int(0.8*(len(data))):]"
   ]
  },
  {
   "cell_type": "code",
   "execution_count": null,
   "id": "indian-hours",
   "metadata": {},
   "outputs": [],
   "source": [
    "# evaluate an lasso regression model on the dataset\n",
    "from numpy import mean\n",
    "from numpy import std\n",
    "from numpy import absolute\n",
    "from pandas import read_csv\n",
    "from sklearn.model_selection import cross_val_score\n",
    "from sklearn.model_selection import RepeatedKFold\n",
    "from sklearn.linear_model import Lasso\n",
    "from sklearn.model_selection import train_test_split\n",
    "# load the dataset\n",
    "X, y = data[[\"temperature\", \"dewpoint\"]], data[\"load\"]\n",
    "X_train, X_test, y_train, y_test = train_test_split(X, y, random_state=0)\n",
    "\n",
    "# define model\n",
    "model = Lasso(alpha=1.0)\n",
    "result=model.fit(X_train, y_train)\n",
    "y_predict = model.predict(X_test)"
   ]
  },
  {
   "cell_type": "markdown",
   "id": "sacred-journal",
   "metadata": {},
   "source": [
    "## Test Load Model"
   ]
  },
  {
   "cell_type": "code",
   "execution_count": null,
   "id": "agreed-metallic",
   "metadata": {},
   "outputs": [],
   "source": [
    "score = result.score(X_test, y_test)\n",
    "print(\"Test score: {0:.2f} %\".format(100 * score))"
   ]
  },
  {
   "cell_type": "code",
   "execution_count": null,
   "id": "broke-stocks",
   "metadata": {},
   "outputs": [],
   "source": [
    "df_test=pd.concat([X_test, y_test], axis=1)\n",
    "df_test[\"load_predict\"]=y_predict\n",
    "df_test = df_test.sort_index().reset_index()"
   ]
  },
  {
   "cell_type": "code",
   "execution_count": null,
   "id": "grand-outdoors",
   "metadata": {},
   "outputs": [],
   "source": [
    "# df_test.hvplot(x=\"datetime\", y=[\"load\", \"load_predict\"], datashade=True, color=\"yellow\" )\n",
    "df_test.plot(x=\"datetime\", y=[\"load\", \"load_predict\"], figsize=(25,10))"
   ]
  },
  {
   "cell_type": "markdown",
   "id": "minor-thursday",
   "metadata": {},
   "source": [
    "## Save Load Model"
   ]
  },
  {
   "cell_type": "code",
   "execution_count": null,
   "id": "functional-brass",
   "metadata": {},
   "outputs": [],
   "source": [
    "with open(MODEL_PATH, 'wb') as file:\n",
    "    pickle.dump(result, file)"
   ]
  },
  {
   "cell_type": "markdown",
   "id": "periodic-compression",
   "metadata": {},
   "source": [
    "## Predict Using Load Model"
   ]
  },
  {
   "cell_type": "code",
   "execution_count": null,
   "id": "crazy-spiritual",
   "metadata": {},
   "outputs": [],
   "source": [
    "temperature=10\n",
    "dewpoint=8\n",
    "result.predict([[temperature, dewpoint]])[0].round(0)"
   ]
  },
  {
   "cell_type": "markdown",
   "id": "cutting-saskatchewan",
   "metadata": {},
   "source": [
    "Previous: [Viz Training Data Set](viz_training_dataset.ipynb)"
   ]
  }
 ],
 "metadata": {
  "kernelspec": {
   "display_name": "Python 3",
   "language": "python",
   "name": "python3"
  },
  "language_info": {
   "codemirror_mode": {
    "name": "ipython",
    "version": 3
   },
   "file_extension": ".py",
   "mimetype": "text/x-python",
   "name": "python",
   "nbconvert_exporter": "python",
   "pygments_lexer": "ipython3",
   "version": "3.7.6"
  }
 },
 "nbformat": 4,
 "nbformat_minor": 5
}
