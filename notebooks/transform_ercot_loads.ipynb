{
 "cells": [
  {
   "cell_type": "code",
   "execution_count": null,
   "metadata": {},
   "outputs": [],
   "source": [
    "import glob\n",
    "import os\n",
    "\n",
    "import pandas as pd\n",
    "from pandas.api.types import is_string_dtype\n",
    "from dask import compute\n",
    "from dask.delayed import delayed\n",
    "import dask.dataframe as dd\n",
    "import zipfile\n",
    "\n",
    "from config import ERCOT_RAW_ROOT, ERCOT_GOLD_ROOT"
   ]
  },
  {
   "cell_type": "code",
   "execution_count": null,
   "metadata": {},
   "outputs": [],
   "source": [
    "filenames = glob.glob(f\"{ERCOT_RAW_ROOT}/*.zip\", recursive=True)\n",
    "filenames[0:3]"
   ]
  },
  {
   "cell_type": "code",
   "execution_count": null,
   "metadata": {},
   "outputs": [],
   "source": [
    "def to_year(filename):   \n",
    "    return int(filename.split(\"_\")[-1].replace(\".zip\", \"\"))\n",
    "    \n",
    "raw_file = '../data/raw/ercot\\\\native_Load_2016.zip'\n",
    "result = to_year(raw_file)\n",
    "result"
   ]
  },
  {
   "cell_type": "code",
   "execution_count": null,
   "metadata": {},
   "outputs": [],
   "source": [
    "def to_hour_beginning(hour_ending):\n",
    "    l = hour_ending.str[0:-5]\n",
    "    m = hour_ending.str[-5:-3]\n",
    "    m = m.astype(int)-1\n",
    "    m = m.astype(str).str.zfill(2)\n",
    "    r = hour_ending.str[-3:0]\n",
    "    pd.to_datetime(l + m + r)\n",
    "    return l + m + r\n",
    "    \n",
    "\n",
    "value = pd.DataFrame({\"Hour Ending\": ['01/01/2021 01:00']})\n",
    "to_hour_beginning(value[\"Hour Ending\"])"
   ]
  },
  {
   "cell_type": "code",
   "execution_count": null,
   "metadata": {},
   "outputs": [],
   "source": [
    "schema = {\n",
    "    \"Hour Ending Raw\": 'object',\n",
    "    \"Hour Ending\": 'datetime64[ns]',\n",
    "    \"Hour Beginning\": 'datetime64[ns]',\n",
    "    \"COAST\": 'float',\n",
    "    \"EAST\": \"float\",\n",
    "    \"FWEST\": \"float\",\n",
    "    \"WEST\": \"float\",\n",
    "    \"NORTH\": \"float\",\n",
    "    \"NCENT\": \"float\",\n",
    "    \"SOUTH\": \"float\",\n",
    "    \"SCENT\": \"float\",\n",
    "    \"WEST\": \"float\",\n",
    "    \"ERCOT\": \"float\",\n",
    "    \"year\": \"int\",\n",
    "}\n",
    "rename_columns = {\n",
    "    \"Hour_End\": \"Hour Ending\",\n",
    "    \"HourEnding\": \"Hour Ending\",\n",
    "    \"FAR_WEST\": \"FWEST\",\n",
    "    \"NORTH_C\": \"NCENT\",\n",
    "    \"SOUTHERN\": \"SOUTH\",\n",
    "    \"SOUTH_C\": \"SCENT\",\n",
    "}\n",
    "columns = list(schema.keys())"
   ]
  },
  {
   "cell_type": "code",
   "execution_count": null,
   "metadata": {},
   "outputs": [],
   "source": [
    "def read_archive(filename):\n",
    "    archive = zipfile.ZipFile(filename, 'r')\n",
    "    filename_xlsx = archive.filelist[0].filename\n",
    "    xlfile = archive.open(filename_xlsx)\n",
    "    df = (\n",
    "        pd\n",
    "        .read_excel(xlfile)\n",
    "        .dropna()\n",
    "        .rename(columns=rename_columns)\n",
    "    )\n",
    "    \n",
    "    year = to_year(filename)\n",
    "    df[\"year\"]=year\n",
    "    \n",
    "    df[\"Hour Ending Raw\"] = df['Hour Ending'].astype(str)\n",
    "    if is_string_dtype(df['Hour Ending']):\n",
    "        date = df[\"Hour Ending\"].str[0:10]\n",
    "        hour = (df[\"Hour Ending\"].str[11:13].astype(int)-1).astype(str).str.zfill(2)\n",
    "        df[\"Hour Beginning\"] = pd.to_datetime(date + ' ' + hour)\n",
    "        df[\"Hour Ending\"] = df[\"Hour Beginning\"] + pd.Timedelta(hours=1)\n",
    "    else:\n",
    "        df[\"Hour Ending\"] = df['Hour Ending'].dt.round('min')\n",
    "        df[\"Hour Beginning\"] = df['Hour Ending'].dt.round('min')-pd.Timedelta(hours=1)\n",
    "    return df[columns]\n",
    "\n",
    "\n",
    "dfs = [delayed(read_archive)(fn) for fn in filenames]\n",
    "df = dd.from_delayed(dfs, meta=schema)  # df is a dask dataframe\n",
    "df.head()"
   ]
  },
  {
   "cell_type": "code",
   "execution_count": null,
   "metadata": {},
   "outputs": [],
   "source": [
    "id_vars=['year', 'Hour Beginning', \"Hour Ending\", \"Hour Ending Raw\"]\n",
    "value_vars = list(set(df.columns)-set(id_vars))\n",
    "df_normalized = dd.melt(df, id_vars=id_vars, value_vars=value_vars).rename(columns={\"variable\": \"area\", \"value\": \"load\"})\n",
    "df_normalized.head()"
   ]
  },
  {
   "cell_type": "code",
   "execution_count": null,
   "metadata": {},
   "outputs": [],
   "source": [
    "gold_path = f\"{ERCOT_GOLD_ROOT}.parquet\"\n",
    "df_normalized.to_parquet(gold_path, partition_on=[\"area\", \"year\"])"
   ]
  },
  {
   "cell_type": "markdown",
   "metadata": {},
   "source": [
    "Previous: [Transform NOAA Observations](transform_noaa_observations.ipynb)\n",
    "Next: [Transform to Training Data Set](transform_to_training_dataset.ipynb)"
   ]
  }
 ],
 "metadata": {
  "kernelspec": {
   "display_name": "Python 3",
   "language": "python",
   "name": "python3"
  },
  "language_info": {
   "codemirror_mode": {
    "name": "ipython",
    "version": 3
   },
   "file_extension": ".py",
   "mimetype": "text/x-python",
   "name": "python",
   "nbconvert_exporter": "python",
   "pygments_lexer": "ipython3",
   "version": "3.7.6"
  }
 },
 "nbformat": 4,
 "nbformat_minor": 4
}
